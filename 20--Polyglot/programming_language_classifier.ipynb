{
 "cells": [
  {
   "cell_type": "code",
   "execution_count": 47,
   "metadata": {
    "collapsed": false
   },
   "outputs": [],
   "source": [
    "import os    \n",
    "from copy import deepcopy\n",
    "import codecs\n",
    "import glob\n",
    "import csv\n",
    "import re\n",
    "import numpy as np\n",
    "import random\n",
    "from sklearn.base import TransformerMixin\n",
    "from sklearn.pipeline import make_pipeline, make_union\n",
    "import pandas as pd\n",
    "from sklearn.tree import DecisionTreeClassifier"
   ]
  },
  {
   "cell_type": "code",
   "execution_count": 2,
   "metadata": {
    "collapsed": false
   },
   "outputs": [],
   "source": [
    "files = os.listdir('./data/')"
   ]
  },
  {
   "cell_type": "code",
   "execution_count": 3,
   "metadata": {
    "collapsed": false
   },
   "outputs": [],
   "source": [
    "deep_list = ['/*' * count for count in range(10)]"
   ]
  },
  {
   "cell_type": "code",
   "execution_count": 82,
   "metadata": {
    "collapsed": true
   },
   "outputs": [],
   "source": [
    "ext_list = [\".gcc\", \".c\",\".sbcl\",\".hack\", \".php\",\".jruby\",\".yarv\",\".racket\",\".clojure\",\n",
    "            \".csharp\",\".java\",\".ocaml\",\".perl\",\".javascript\",\".python3\",\".scala\",\".ghc\"]"
   ]
  },
  {
   "cell_type": "code",
   "execution_count": 83,
   "metadata": {
    "collapsed": false
   },
   "outputs": [],
   "source": [
    "this = [(glob.glob('./data/benchmarksgame-2014-08-31/{}{}'.format(x,ext)), ext) for x in deep_list for ext in ext_list]"
   ]
  },
  {
   "cell_type": "code",
   "execution_count": 69,
   "metadata": {
    "collapsed": false
   },
   "outputs": [],
   "source": [
    "# for key in snippit_dict:\n",
    "#     with codecs.open(,'r',encoding='Windows 1252') as f:\n",
    "#         data.append(f.read())"
   ]
  },
  {
   "cell_type": "code",
   "execution_count": 84,
   "metadata": {
    "collapsed": false
   },
   "outputs": [],
   "source": [
    "final_list = []\n",
    "for x,y in this:\n",
    "    if x != []:\n",
    "        final_list.append((x,y))"
   ]
  },
  {
   "cell_type": "code",
   "execution_count": 85,
   "metadata": {
    "collapsed": false
   },
   "outputs": [],
   "source": [
    "snippit_dict = {}\n",
    "for itm, idx in final_list:\n",
    "    snippit_dict[idx] = itm\n"
   ]
  },
  {
   "cell_type": "code",
   "execution_count": 86,
   "metadata": {
    "collapsed": false
   },
   "outputs": [],
   "source": [
    "for key in snippit_dict:\n",
    "    lan_list = []\n",
    "    for string in snippit_dict[key]:\n",
    "        with open(string) as f:\n",
    "            lan_list.append(f.read())\n",
    "    snippit_dict[key] = lan_list"
   ]
  },
  {
   "cell_type": "code",
   "execution_count": 93,
   "metadata": {
    "collapsed": false
   },
   "outputs": [],
   "source": [
    "snippit_dict['c'] = snippit_dict['.c'] + snippit_dict['.gcc']\n",
    "snippit_dict['ruby'] = snippit_dict['.jruby'] + snippit_dict['.yarv']\n",
    "snippit_dict['python'] = snippit_dict['.python3']\n",
    "snippit_dict['php'] = snippit_dict['.hack'] + snippit_dict['.php']\n",
    "snippit_dict['scala'] = snippit_dict['.scala']\n",
    "snippit_dict['ocaml'] = snippit_dict['.ocaml']\n",
    "snippit_dict['c#'] = snippit_dict['.csharp']\n",
    "snippit_dict['lisp'] = snippit_dict['.sbcl']\n",
    "snippit_dict['haskell'] = snippit_dict['.ghc']\n",
    "snippit_dict['clojure'] = snippit_dict['.clojure']\n",
    "snippit_dict['java'] = snippit_dict['.java']\n",
    "snippit_dict['javascript'] = snippit_dict['.javascript']\n",
    "snippit_dict['perl'] = snippit_dict['.perl']\n",
    "snippit_dict['scheme'] = snippit_dict['.racket']"
   ]
  },
  {
   "cell_type": "code",
   "execution_count": 95,
   "metadata": {
    "collapsed": false
   },
   "outputs": [],
   "source": [
    "for string in ext_list:\n",
    "    del snippit_dict[string]"
   ]
  },
  {
   "cell_type": "code",
   "execution_count": 110,
   "metadata": {
    "collapsed": false
   },
   "outputs": [],
   "source": [
    "X = []\n",
    "y = []\n",
    "for key in snippit_dict:\n",
    "    y.extend([key for _ in range(len(snippit_dict[key]))])\n",
    "    X.extend(snippit_dict[key])"
   ]
  },
  {
   "cell_type": "code",
   "execution_count": null,
   "metadata": {
    "collapsed": false
   },
   "outputs": [],
   "source": []
  },
  {
   "cell_type": "code",
   "execution_count": 115,
   "metadata": {
    "collapsed": false
   },
   "outputs": [],
   "source": [
    "symbol_list = '''(\n",
    ")\n",
    "def\n",
    "end\n",
    ":\n",
    "#\n",
    "@\n",
    "let\n",
    "elsif\n",
    "elif\n",
    "$\n",
    "my\n",
    "sub\n",
    "use\n",
    "{\n",
    "}\n",
    "*\n",
    "ui\n",
    "void\n",
    "mul\n",
    "done\n",
    "for\n",
    "while\n",
    ";\n",
    "(def\n",
    "){\n",
    ") {\n",
    "public\n",
    "static\n",
    "native\n",
    "<?\n",
    "(define\n",
    "(declaim\n",
    "'''.split()"
   ]
  },
  {
   "cell_type": "code",
   "execution_count": 117,
   "metadata": {
    "collapsed": false
   },
   "outputs": [],
   "source": [
    "def percent_symbol(text,symbol):\n",
    "    cleaned = re.sub(r'\\s','',text)\n",
    "    ret = len(re.findall(r''+re.escape(symbol),cleaned))\n",
    "    return ret/len(cleaned)\n",
    "    \n"
   ]
  },
  {
   "cell_type": "code",
   "execution_count": 120,
   "metadata": {
    "collapsed": false
   },
   "outputs": [],
   "source": [
    "class FunctionFeaturizer(TransformerMixin):\n",
    "    def __init__(self, repeater, *featurizers, sym_list=None):\n",
    "        self.repeater = repeater\n",
    "        self.featurizers = featurizers\n",
    "        self.sym_list=sym_list\n",
    "        \n",
    "    def fit(self, X, y=None):\n",
    "        '''All SciKit-learn compatible transformers and classifiers have the same\n",
    "        interface. `fit` should always return the same object (self)'''\n",
    "        return self\n",
    "    \n",
    "    def transform(self, X):\n",
    "        '''Given a list of original data, return a list of feature vectors'''\n",
    "        feature_vectors = []\n",
    "        if self.sym_list:\n",
    "            for x in X:\n",
    "                feature_vector = [self.repeater(x,sym) for sym in self.sym_list] \n",
    "                feature_vectors.append(feature_vector)\n",
    "        \n",
    "        return np.array(feature_vectors)\n"
   ]
  },
  {
   "cell_type": "code",
   "execution_count": 121,
   "metadata": {
    "collapsed": false
   },
   "outputs": [],
   "source": [
    "pipe = make_pipeline(FunctionFeaturizer(percent_symbol,sym_list=symbol_list),DecisionTreeClassifier())"
   ]
  },
  {
   "cell_type": "code",
   "execution_count": 122,
   "metadata": {
    "collapsed": false
   },
   "outputs": [
    {
     "data": {
      "text/plain": [
       "Pipeline(steps=[('functionfeaturizer', <__main__.FunctionFeaturizer object at 0x113df1630>), ('decisiontreeclassifier', DecisionTreeClassifier(class_weight=None, criterion='gini', max_depth=None,\n",
       "            max_features=None, max_leaf_nodes=None, min_samples_leaf=1,\n",
       "            min_samples_split=2, min_weight_fraction_leaf=0.0,\n",
       "            random_state=None, splitter='best'))])"
      ]
     },
     "execution_count": 122,
     "metadata": {},
     "output_type": "execute_result"
    }
   ],
   "source": [
    "pipe.fit(X,y)"
   ]
  },
  {
   "cell_type": "code",
   "execution_count": 123,
   "metadata": {
    "collapsed": false
   },
   "outputs": [
    {
     "data": {
      "text/plain": [
       "1.0"
      ]
     },
     "execution_count": 123,
     "metadata": {},
     "output_type": "execute_result"
    }
   ],
   "source": [
    "pipe.score(X,y)"
   ]
  },
  {
   "cell_type": "code",
   "execution_count": null,
   "metadata": {
    "collapsed": false
   },
   "outputs": [],
   "source": []
  },
  {
   "cell_type": "code",
   "execution_count": null,
   "metadata": {
    "collapsed": false
   },
   "outputs": [],
   "source": []
  },
  {
   "cell_type": "code",
   "execution_count": null,
   "metadata": {
    "collapsed": false
   },
   "outputs": [],
   "source": [
    "percent_symbol('()()((himynameisbob))','(')"
   ]
  },
  {
   "cell_type": "code",
   "execution_count": null,
   "metadata": {
    "collapsed": false
   },
   "outputs": [],
   "source": [
    "symbol_list[:5]"
   ]
  },
  {
   "cell_type": "code",
   "execution_count": null,
   "metadata": {
    "collapsed": false
   },
   "outputs": [],
   "source": [
    "this = FunctionFeaturizer(percent_symbol,sym_list=symbol_list)"
   ]
  },
  {
   "cell_type": "code",
   "execution_count": null,
   "metadata": {
    "collapsed": false
   },
   "outputs": [],
   "source": [
    "test = this.transform([',,daj;kj;3kj2rme/.ar;3lkj()(#*#$)<>','kfdjs;fj32hr343())()()()'])"
   ]
  },
  {
   "cell_type": "code",
   "execution_count": null,
   "metadata": {
    "collapsed": false
   },
   "outputs": [],
   "source": [
    "test"
   ]
  },
  {
   "cell_type": "code",
   "execution_count": null,
   "metadata": {
    "collapsed": false
   },
   "outputs": [],
   "source": [
    "len(symbol_list)"
   ]
  },
  {
   "cell_type": "code",
   "execution_count": null,
   "metadata": {
    "collapsed": true
   },
   "outputs": [],
   "source": [
    "class FunctionFeaturizer(TransformerMixin):\n",
    "    def __init__(self, *featurizers):\n",
    "        self.featurizers = featurizers\n",
    "        \n",
    "    def fit(self, X, y=None):\n",
    "        '''All SciKit-learn compatible transformers and classifiers have the same\n",
    "        interface. `fit` should always return the same object (self)'''\n",
    "        return self\n",
    "    \n",
    "    def transform(self, X, sym_list=None):\n",
    "        '''Given a list of original data, return a list of feature vectors'''\n",
    "        feature_vectors = []\n",
    "        if sym_list:\n",
    "            for sym in sym_list:\n",
    "                for x in X:\n",
    "                    feature_vector = [f(x,sym) for f in self.featurizers[0]]\n",
    "                    feature_vectors.append(feature_vector)\n",
    "        else:\n",
    "            for x in X:\n",
    "                feature_vector = [f(x) for f in self.featurizers]\n",
    "                feature_vectors.append(feature_vector)\n",
    "        \n",
    "        return np.array(feature_vectors)"
   ]
  },
  {
   "cell_type": "code",
   "execution_count": null,
   "metadata": {
    "collapsed": false
   },
   "outputs": [],
   "source": []
  },
  {
   "cell_type": "code",
   "execution_count": null,
   "metadata": {
    "collapsed": true
   },
   "outputs": [],
   "source": []
  },
  {
   "cell_type": "code",
   "execution_count": null,
   "metadata": {
    "collapsed": false
   },
   "outputs": [],
   "source": []
  },
  {
   "cell_type": "code",
   "execution_count": null,
   "metadata": {
    "collapsed": true
   },
   "outputs": [],
   "source": []
  }
 ],
 "metadata": {
  "kernelspec": {
   "display_name": "Python 3",
   "language": "python",
   "name": "python3"
  },
  "language_info": {
   "codemirror_mode": {
    "name": "ipython",
    "version": 3
   },
   "file_extension": ".py",
   "mimetype": "text/x-python",
   "name": "python",
   "nbconvert_exporter": "python",
   "pygments_lexer": "ipython3",
   "version": "3.4.3"
  }
 },
 "nbformat": 4,
 "nbformat_minor": 0
}
