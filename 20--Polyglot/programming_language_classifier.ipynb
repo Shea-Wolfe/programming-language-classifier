{
 "cells": [
  {
   "cell_type": "code",
   "execution_count": 1,
   "metadata": {
    "collapsed": false
   },
   "outputs": [],
   "source": [
    "import os    \n",
    "from copy import deepcopy\n",
    "import codecs\n",
    "import glob\n",
    "import csv\n",
    "import re\n",
    "import numpy as np\n",
    "import random\n",
    "from sklearn.base import TransformerMixin\n",
    "from sklearn.pipeline import make_pipeline, make_union\n",
    "import pandas as pd\n",
    "from sklearn.tree import DecisionTreeClassifier\n",
    "from sklearn.metrics import classification_report, confusion_matrix\n",
    "from sklearn.cross_validation import train_test_split\n"
   ]
  },
  {
   "cell_type": "code",
   "execution_count": 2,
   "metadata": {
    "collapsed": false
   },
   "outputs": [],
   "source": [
    "files = os.listdir('./data/')"
   ]
  },
  {
   "cell_type": "code",
   "execution_count": 3,
   "metadata": {
    "collapsed": false
   },
   "outputs": [],
   "source": [
    "deep_list = ['/*' * count for count in range(10)]"
   ]
  },
  {
   "cell_type": "code",
   "execution_count": 4,
   "metadata": {
    "collapsed": true
   },
   "outputs": [],
   "source": [
    "ext_list = [\".gcc\", \".c\",\".sbcl\",\".hack\", \".php\",\".jruby\",\".yarv\",\".racket\",\".clojure\",\n",
    "            \".csharp\",\".java\",\".ocaml\",\".perl\",\".javascript\",\".python3\",\".scala\",\".ghc\"]"
   ]
  },
  {
   "cell_type": "code",
   "execution_count": 5,
   "metadata": {
    "collapsed": false
   },
   "outputs": [],
   "source": [
    "this = [(glob.glob('./data/benchmarksgame-2014-08-31/{}{}'.format(x,ext)), ext) for x in deep_list for ext in ext_list]"
   ]
  },
  {
   "cell_type": "code",
   "execution_count": null,
   "metadata": {
    "collapsed": false
   },
   "outputs": [],
   "source": []
  },
  {
   "cell_type": "code",
   "execution_count": 6,
   "metadata": {
    "collapsed": false
   },
   "outputs": [],
   "source": [
    "final_list = []\n",
    "for x,y in this:\n",
    "    if x != []:\n",
    "        final_list.append((x,y))"
   ]
  },
  {
   "cell_type": "code",
   "execution_count": 7,
   "metadata": {
    "collapsed": false
   },
   "outputs": [],
   "source": [
    "snippit_dict = {}\n",
    "for itm, idx in final_list:\n",
    "    if idx in snippit_dict.keys():\n",
    "        snippit_dict[idx].append(itm)\n",
    "    else:\n",
    "        snippit_dict[idx] = itm\n"
   ]
  },
  {
   "cell_type": "code",
   "execution_count": null,
   "metadata": {
    "collapsed": false
   },
   "outputs": [],
   "source": []
  },
  {
   "cell_type": "code",
   "execution_count": 8,
   "metadata": {
    "collapsed": false
   },
   "outputs": [],
   "source": [
    "for key in snippit_dict:\n",
    "    lan_list = []\n",
    "    for string in snippit_dict[key]:\n",
    "        try:\n",
    "            with open(string, encoding='windows 1252') as f:\n",
    "                lan_list.append(f.read())\n",
    "        except:\n",
    "            pass\n",
    "    snippit_dict[key] = lan_list"
   ]
  },
  {
   "cell_type": "code",
   "execution_count": 9,
   "metadata": {
    "collapsed": false
   },
   "outputs": [],
   "source": [
    "snippit_dict['c'] = snippit_dict['.c'] + snippit_dict['.gcc']\n",
    "snippit_dict['ruby'] = snippit_dict['.jruby'] + snippit_dict['.yarv']\n",
    "snippit_dict['python'] = snippit_dict['.python3']\n",
    "snippit_dict['php'] = snippit_dict['.hack'] + snippit_dict['.php']\n",
    "snippit_dict['scala'] = snippit_dict['.scala']\n",
    "snippit_dict['ocaml'] = snippit_dict['.ocaml']\n",
    "snippit_dict['c#'] = snippit_dict['.csharp']\n",
    "snippit_dict['lisp'] = snippit_dict['.sbcl']\n",
    "snippit_dict['haskell'] = snippit_dict['.ghc']\n",
    "snippit_dict['clojure'] = snippit_dict['.clojure']\n",
    "snippit_dict['java'] = snippit_dict['.java']\n",
    "snippit_dict['javascript'] = snippit_dict['.javascript']\n",
    "snippit_dict['perl'] = snippit_dict['.perl']\n",
    "snippit_dict['scheme'] = snippit_dict['.racket']"
   ]
  },
  {
   "cell_type": "code",
   "execution_count": 10,
   "metadata": {
    "collapsed": false
   },
   "outputs": [],
   "source": [
    "for string in ext_list:\n",
    "    del snippit_dict[string]"
   ]
  },
  {
   "cell_type": "code",
   "execution_count": 11,
   "metadata": {
    "collapsed": false
   },
   "outputs": [],
   "source": [
    "X = []\n",
    "y = []\n",
    "for key in snippit_dict:\n",
    "    y.extend([key for _ in range(len(snippit_dict[key]))])\n",
    "    X.extend(snippit_dict[key])"
   ]
  },
  {
   "cell_type": "code",
   "execution_count": 12,
   "metadata": {
    "collapsed": false
   },
   "outputs": [],
   "source": [
    "# symbol_list = '''(\n",
    "# )\n",
    "# end\n",
    "# ):\n",
    "# else:\n",
    "# :\n",
    "# #\n",
    "# /*\n",
    "# */\n",
    "# __init__\n",
    "# __\n",
    "# (ns\n",
    "# @\n",
    "# let\n",
    "# elsif\n",
    "# elif\n",
    "# self.\n",
    "# $\n",
    "# my\n",
    "# sub\n",
    "# use\n",
    "# {\n",
    "# }\n",
    "# (if \n",
    "# (defn\n",
    "# private\n",
    "# (defmacro\n",
    "# *\n",
    "# def \n",
    "# function\n",
    "# ui\n",
    "# print(\n",
    "# var\n",
    "# int\n",
    "# do\n",
    "# //\n",
    "# final\n",
    "# void\n",
    "# mul\n",
    "# done\n",
    "# for\n",
    "# while\n",
    "# ;\n",
    "# ;;\n",
    "# import\n",
    "# (def\n",
    "# ){\n",
    "# ) {\n",
    "# public\n",
    "# static\n",
    "# native\n",
    "# println\n",
    "# Console\n",
    "# Child\n",
    "# <?\n",
    "# (define\n",
    "# (declaim\n",
    "# Class'''.split('\\n')"
   ]
  },
  {
   "cell_type": "code",
   "execution_count": 13,
   "metadata": {
    "collapsed": false
   },
   "outputs": [],
   "source": [
    "tup_list = [('(',')'),('[',']'),('{','}'),('<','>')]"
   ]
  },
  {
   "cell_type": "code",
   "execution_count": 14,
   "metadata": {
    "collapsed": false
   },
   "outputs": [],
   "source": [
    "symbol_list = '''Console\n",
    "Child\n",
    "(defn\n",
    "(define\n",
    ";;;\n",
    "end\n",
    "class\n",
    "Class\n",
    "object\n",
    "case\n",
    "()\n",
    "==\n",
    "__\n",
    "import\n",
    "var\n",
    "puts\n",
    "do\n",
    "):\n",
    "from\n",
    "$\n",
    "int\n",
    "native\n",
    "@\n",
    "new\n",
    "elif\n",
    "public\n",
    "private\n",
    "set\n",
    "static\n",
    "void\n",
    "final\n",
    "public class\n",
    "if\n",
    "check\n",
    "while\n",
    "let\n",
    "make\n",
    "object\n",
    "type\n",
    "module\n",
    "--\n",
    "::\n",
    "->\n",
    "function\n",
    "{\n",
    "|\n",
    "}\n",
    "def'''.split('\\n')"
   ]
  },
  {
   "cell_type": "code",
   "execution_count": 15,
   "metadata": {
    "collapsed": false
   },
   "outputs": [],
   "source": [
    "def percent_symbol(text,symbol):\n",
    "    ret = len(re.findall(r''+re.escape(symbol),text))\n",
    "    return ret/(len(text))\n",
    "    \n",
    "\n",
    "def percent_encased(text,symbol1, symbol2):\n",
    "    count = 0\n",
    "    ret = re.findall(r''+symbol1+'[\\s\\S]*'+symbol2,text)\n",
    "    for item in ret:\n",
    "        count += len(item)\n",
    "    return count/(len(text))"
   ]
  },
  {
   "cell_type": "code",
   "execution_count": 16,
   "metadata": {
    "collapsed": false
   },
   "outputs": [],
   "source": [
    "class SymbolFeaturizer(TransformerMixin):\n",
    "    def __init__(self, symbol, sym_list,encase, tup_list):\n",
    "        self.symbol = symbol\n",
    "        self.sym_list=sym_list\n",
    "        self.encase = encase\n",
    "        self.tup_list = tup_list\n",
    "        \n",
    "    def fit(self, X, y=None):\n",
    "        '''All SciKit-learn compatible transformers and classifiers have the same\n",
    "        interface. `fit` should always return the same object (self)'''\n",
    "        return self\n",
    "    \n",
    "    def transform(self, X):\n",
    "        '''Given a list of original data, return a list of feature vectors'''\n",
    "        feature_vectors = []\n",
    "        for x in X:\n",
    "            feature_vector = [self.symbol(x,sym) for sym in self.sym_list] \n",
    "            feature_vectors.append(feature_vector)\n",
    "#             feature_vector = [self.encase(x,tup[0],tup[1]) for tup in self.tup_list]\n",
    "#             feature_vectors.extend(feature_vector)\n",
    "        return np.array(feature_vectors)\n"
   ]
  },
  {
   "cell_type": "code",
   "execution_count": null,
   "metadata": {
    "collapsed": true
   },
   "outputs": [],
   "source": []
  },
  {
   "cell_type": "code",
   "execution_count": 17,
   "metadata": {
    "collapsed": false
   },
   "outputs": [],
   "source": [
    "# multi_feat = make_union(SymbolFeaturizer(percent_symbol,sym_list=symbol_list),EncasedFeaturizer(tup_list))"
   ]
  },
  {
   "cell_type": "code",
   "execution_count": 18,
   "metadata": {
    "collapsed": false
   },
   "outputs": [],
   "source": [
    "pipe = make_pipeline(SymbolFeaturizer(percent_symbol,symbol_list,percent_encased,tup_list),DecisionTreeClassifier())"
   ]
  },
  {
   "cell_type": "code",
   "execution_count": 19,
   "metadata": {
    "collapsed": true
   },
   "outputs": [],
   "source": [
    "# X_train, X_test, y_train, y_test = train_test_split(X,y)"
   ]
  },
  {
   "cell_type": "code",
   "execution_count": 20,
   "metadata": {
    "collapsed": false
   },
   "outputs": [],
   "source": [
    "# print(classification_report(pipe.predict(X_test), y_test))"
   ]
  },
  {
   "cell_type": "code",
   "execution_count": 21,
   "metadata": {
    "collapsed": false
   },
   "outputs": [],
   "source": [
    "# pipe.score(X_test,y_test)"
   ]
  },
  {
   "cell_type": "code",
   "execution_count": 22,
   "metadata": {
    "collapsed": false
   },
   "outputs": [],
   "source": [
    "tests = pd.read_csv('test.csv',header=None)"
   ]
  },
  {
   "cell_type": "code",
   "execution_count": 23,
   "metadata": {
    "collapsed": false
   },
   "outputs": [],
   "source": [
    "count = 0\n",
    "del_list = []\n",
    "for item in tests[1]:\n",
    "    if item == 'tcl':\n",
    "        del_list.append(count)\n",
    "    count += 1"
   ]
  },
  {
   "cell_type": "code",
   "execution_count": 24,
   "metadata": {
    "collapsed": false
   },
   "outputs": [],
   "source": [
    "for row in del_list:\n",
    "    tests = tests.drop(row)"
   ]
  },
  {
   "cell_type": "code",
   "execution_count": null,
   "metadata": {
    "collapsed": false
   },
   "outputs": [],
   "source": []
  },
  {
   "cell_type": "code",
   "execution_count": 25,
   "metadata": {
    "collapsed": false
   },
   "outputs": [],
   "source": [
    "test_X = []\n",
    "test_y = []\n",
    "for key in tests[0]:\n",
    "    with open('test/{}'.format(key)) as f:\n",
    "        test_X.append(f.read())\n",
    "        "
   ]
  },
  {
   "cell_type": "code",
   "execution_count": 26,
   "metadata": {
    "collapsed": false
   },
   "outputs": [
    {
     "data": {
      "text/plain": [
       "Pipeline(steps=[('symbolfeaturizer', <__main__.SymbolFeaturizer object at 0x11293cd30>), ('decisiontreeclassifier', DecisionTreeClassifier(class_weight=None, criterion='gini', max_depth=None,\n",
       "            max_features=None, max_leaf_nodes=None, min_samples_leaf=1,\n",
       "            min_samples_split=2, min_weight_fraction_leaf=0.0,\n",
       "            random_state=None, splitter='best'))])"
      ]
     },
     "execution_count": 26,
     "metadata": {},
     "output_type": "execute_result"
    }
   ],
   "source": [
    "pipe.fit(X,y)"
   ]
  },
  {
   "cell_type": "code",
   "execution_count": 27,
   "metadata": {
    "collapsed": false
   },
   "outputs": [
    {
     "data": {
      "text/plain": [
       "0.73333333333333328"
      ]
     },
     "execution_count": 27,
     "metadata": {},
     "output_type": "execute_result"
    }
   ],
   "source": [
    "pipe.score([test for test in test_X],tests[1])"
   ]
  },
  {
   "cell_type": "code",
   "execution_count": 28,
   "metadata": {
    "collapsed": false
   },
   "outputs": [],
   "source": [
    "check = pipe.predict([test for test in test_X])"
   ]
  },
  {
   "cell_type": "code",
   "execution_count": 29,
   "metadata": {
    "collapsed": false
   },
   "outputs": [
    {
     "name": "stdout",
     "output_type": "stream",
     "text": [
      "clojure clojure\n",
      "clojure clojure\n",
      "ruby clojure\n",
      "clojure clojure\n",
      "python python\n",
      "python python\n",
      "python python\n",
      "scala python\n",
      "javascript javascript\n",
      "javascript javascript\n",
      "scala javascript\n",
      "javascript javascript\n",
      "scheme ruby\n",
      "ruby ruby\n",
      "ruby ruby\n",
      "php haskell\n",
      "ruby haskell\n",
      "haskell haskell\n",
      "scheme scheme\n",
      "scheme scheme\n",
      "php scheme\n",
      "java java\n",
      "java java\n",
      "haskell scala\n",
      "scala scala\n",
      "php php\n",
      "php php\n",
      "php php\n",
      "ocaml ocaml\n",
      "ocaml ocaml\n"
     ]
    }
   ],
   "source": [
    "count = 0\n",
    "for item in check:\n",
    "    if count == 25:\n",
    "        count += 2\n",
    "    print(item,tests[1][count])\n",
    "    count += 1"
   ]
  },
  {
   "cell_type": "code",
   "execution_count": 30,
   "metadata": {
    "collapsed": false
   },
   "outputs": [
    {
     "name": "stdout",
     "output_type": "stream",
     "text": [
      "             precision    recall  f1-score   support\n",
      "\n",
      "    clojure       0.75      1.00      0.86         3\n",
      "    haskell       0.33      0.50      0.40         2\n",
      "       java       1.00      1.00      1.00         2\n",
      " javascript       0.75      1.00      0.86         3\n",
      "      ocaml       1.00      1.00      1.00         2\n",
      "        php       1.00      0.60      0.75         5\n",
      "     python       0.75      1.00      0.86         3\n",
      "       ruby       0.67      0.50      0.57         4\n",
      "      scala       0.50      0.33      0.40         3\n",
      "     scheme       0.67      0.67      0.67         3\n",
      "\n",
      "avg / total       0.75      0.73      0.72        30\n",
      "\n"
     ]
    }
   ],
   "source": [
    "print(classification_report(pipe.predict([test for test in test_X]), tests[1]))"
   ]
  },
  {
   "cell_type": "code",
   "execution_count": null,
   "metadata": {
    "collapsed": false
   },
   "outputs": [],
   "source": []
  },
  {
   "cell_type": "code",
   "execution_count": null,
   "metadata": {
    "collapsed": true
   },
   "outputs": [],
   "source": []
  },
  {
   "cell_type": "code",
   "execution_count": null,
   "metadata": {
    "collapsed": false
   },
   "outputs": [],
   "source": []
  },
  {
   "cell_type": "code",
   "execution_count": null,
   "metadata": {
    "collapsed": true
   },
   "outputs": [],
   "source": []
  },
  {
   "cell_type": "code",
   "execution_count": null,
   "metadata": {
    "collapsed": false
   },
   "outputs": [],
   "source": []
  }
 ],
 "metadata": {
  "kernelspec": {
   "display_name": "Python 3",
   "language": "python",
   "name": "python3"
  },
  "language_info": {
   "codemirror_mode": {
    "name": "ipython",
    "version": 3
   },
   "file_extension": ".py",
   "mimetype": "text/x-python",
   "name": "python",
   "nbconvert_exporter": "python",
   "pygments_lexer": "ipython3",
   "version": "3.4.3"
  }
 },
 "nbformat": 4,
 "nbformat_minor": 0
}
