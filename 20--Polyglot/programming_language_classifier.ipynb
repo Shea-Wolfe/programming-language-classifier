{
 "cells": [
  {
   "cell_type": "code",
   "execution_count": 144,
   "metadata": {
    "collapsed": false
   },
   "outputs": [],
   "source": [
    "import os    \n",
    "import codecs\n",
    "import glob\n",
    "import csv\n",
    "import re\n",
    "import numpy as np\n",
    "import random\n",
    "from sklearn.base import TransformerMixin\n",
    "from sklearn.pipeline import make_pipeline, make_union"
   ]
  },
  {
   "cell_type": "code",
   "execution_count": 143,
   "metadata": {
    "collapsed": false
   },
   "outputs": [
    {
     "data": {
      "text/plain": [
       "['benchmarksgame-2014-08-31']"
      ]
     },
     "execution_count": 143,
     "metadata": {},
     "output_type": "execute_result"
    }
   ],
   "source": [
    "files = os.listdir('./data/')"
   ]
  },
  {
   "cell_type": "code",
   "execution_count": 173,
   "metadata": {
    "collapsed": false
   },
   "outputs": [],
   "source": [
    "deep_list = ['/*' * count for count in range(10)]"
   ]
  },
  {
   "cell_type": "code",
   "execution_count": 174,
   "metadata": {
    "collapsed": false
   },
   "outputs": [],
   "source": [
    "this = [glob.glob('./data/benchmarksgame-2014-08-31/{}{}'.format(x,'.clojure')) for x in deep_list]"
   ]
  },
  {
   "cell_type": "code",
   "execution_count": 57,
   "metadata": {
    "collapsed": false
   },
   "outputs": [],
   "source": [
    "data = []\n",
    "for file in files[2:]:\n",
    "    with codecs.open(\"./pidigits/\"+file,'r',encoding='Windows 1252') as f:\n",
    "        data.append(f.read())"
   ]
  },
  {
   "cell_type": "code",
   "execution_count": 176,
   "metadata": {
    "collapsed": false
   },
   "outputs": [],
   "source": [
    "test_list = []\n",
    "for x in this:\n",
    "    test_list.extend(x)"
   ]
  },
  {
   "cell_type": "code",
   "execution_count": 178,
   "metadata": {
    "collapsed": false
   },
   "outputs": [],
   "source": [
    "data = []\n",
    "for file in test_list:\n",
    "    with codecs.open(file,'r',encoding='Windows 1252') as f:\n",
    "        data.append(f.read())"
   ]
  },
  {
   "cell_type": "code",
   "execution_count": 180,
   "metadata": {
    "collapsed": false
   },
   "outputs": [
    {
     "data": {
      "text/plain": [
       "34"
      ]
     },
     "execution_count": 180,
     "metadata": {},
     "output_type": "execute_result"
    }
   ],
   "source": [
    "len(data)"
   ]
  },
  {
   "cell_type": "code",
   "execution_count": 137,
   "metadata": {
    "collapsed": false
   },
   "outputs": [],
   "source": [
    "class FunctionFeaturizer(TransformerMixin):\n",
    "    def __init__(self, repeater, *featurizers, sym_list=None):\n",
    "        self.repeater = repeater\n",
    "        self.featurizers = featurizers\n",
    "        self.sym_list=sym_list\n",
    "        \n",
    "    def fit(self, X, y=None):\n",
    "        '''All SciKit-learn compatible transformers and classifiers have the same\n",
    "        interface. `fit` should always return the same object (self)'''\n",
    "        return self\n",
    "    \n",
    "    def transform(self, X):\n",
    "        '''Given a list of original data, return a list of feature vectors'''\n",
    "        feature_vectors = []\n",
    "        if self.sym_list:\n",
    "            for x in X:\n",
    "                feature_vector = [self.repeater(x,sym) for sym in self.sym_list] \n",
    "                feature_vectors.append(feature_vector)\n",
    "        if len()\n",
    "        \n",
    "        return np.array(feature_vectors)\n"
   ]
  },
  {
   "cell_type": "code",
   "execution_count": 96,
   "metadata": {
    "collapsed": true
   },
   "outputs": [],
   "source": [
    "def percent_symbol(text,symbol):\n",
    "    cleaned = re.sub(r'\\s','',text)\n",
    "    ret = len(re.findall(r''+re.escape(symbol),cleaned))\n",
    "    return ret/len(cleaned)\n",
    "    \n"
   ]
  },
  {
   "cell_type": "code",
   "execution_count": 63,
   "metadata": {
    "collapsed": false
   },
   "outputs": [
    {
     "data": {
      "text/plain": [
       "0.19047619047619047"
      ]
     },
     "execution_count": 63,
     "metadata": {},
     "output_type": "execute_result"
    }
   ],
   "source": [
    "percent_symbol('()()((himynameisbob))','(')"
   ]
  },
  {
   "cell_type": "code",
   "execution_count": 66,
   "metadata": {
    "collapsed": false
   },
   "outputs": [],
   "source": [
    "symbol_list = '''(\n",
    ")\n",
    "def\n",
    "end\n",
    ":\n",
    "#\n",
    "@\n",
    "let\n",
    "elsif\n",
    "elif\n",
    "$\n",
    "my\n",
    "sub\n",
    "use\n",
    "{\n",
    "}\n",
    "*\n",
    "ui\n",
    "void\n",
    "mul\n",
    "done\n",
    "for\n",
    "while\n",
    ";\n",
    "(def\n",
    "){\n",
    ") {\n",
    "public\n",
    "static\n",
    "native\n",
    "<?\n",
    "(define\n",
    "(declaim\n",
    "'''.split()"
   ]
  },
  {
   "cell_type": "code",
   "execution_count": 68,
   "metadata": {
    "collapsed": false
   },
   "outputs": [
    {
     "data": {
      "text/plain": [
       "['(', ')', 'def', 'end', ':']"
      ]
     },
     "execution_count": 68,
     "metadata": {},
     "output_type": "execute_result"
    }
   ],
   "source": [
    "symbol_list[:5]"
   ]
  },
  {
   "cell_type": "code",
   "execution_count": 138,
   "metadata": {
    "collapsed": false
   },
   "outputs": [],
   "source": [
    "this = FunctionFeaturizer(percent_symbol,sym_list=symbol_list)"
   ]
  },
  {
   "cell_type": "code",
   "execution_count": 139,
   "metadata": {
    "collapsed": false
   },
   "outputs": [],
   "source": [
    "test = this.transform([',,daj;kj;3kj2rme/.ar;3lkj()(#*#$)<>','kfdjs;fj32hr343())()()()'])"
   ]
  },
  {
   "cell_type": "code",
   "execution_count": 141,
   "metadata": {
    "collapsed": false
   },
   "outputs": [
    {
     "data": {
      "text/plain": [
       "array([[ 0.05714286,  0.05714286,  0.        ,  0.        ,  0.        ,\n",
       "         0.05714286,  0.        ,  0.        ,  0.        ,  0.        ,\n",
       "         0.02857143,  0.        ,  0.        ,  0.        ,  0.        ,\n",
       "         0.        ,  0.02857143,  0.        ,  0.        ,  0.        ,\n",
       "         0.        ,  0.        ,  0.        ,  0.08571429,  0.        ,\n",
       "         0.        ,  0.05714286,  0.        ,  0.        ,  0.        ,\n",
       "         0.        ,  0.        ,  0.        ,  0.        ],\n",
       "       [ 0.16666667,  0.20833333,  0.        ,  0.        ,  0.        ,\n",
       "         0.        ,  0.        ,  0.        ,  0.        ,  0.        ,\n",
       "         0.        ,  0.        ,  0.        ,  0.        ,  0.        ,\n",
       "         0.        ,  0.        ,  0.        ,  0.        ,  0.        ,\n",
       "         0.        ,  0.        ,  0.        ,  0.04166667,  0.        ,\n",
       "         0.        ,  0.20833333,  0.        ,  0.        ,  0.        ,\n",
       "         0.        ,  0.        ,  0.        ,  0.        ]])"
      ]
     },
     "execution_count": 141,
     "metadata": {},
     "output_type": "execute_result"
    }
   ],
   "source": [
    "test"
   ]
  },
  {
   "cell_type": "code",
   "execution_count": 122,
   "metadata": {
    "collapsed": false
   },
   "outputs": [
    {
     "data": {
      "text/plain": [
       "34"
      ]
     },
     "execution_count": 122,
     "metadata": {},
     "output_type": "execute_result"
    }
   ],
   "source": [
    "len(symbol_list)"
   ]
  },
  {
   "cell_type": "code",
   "execution_count": null,
   "metadata": {
    "collapsed": true
   },
   "outputs": [],
   "source": [
    "class FunctionFeaturizer(TransformerMixin):\n",
    "    def __init__(self, *featurizers):\n",
    "        self.featurizers = featurizers\n",
    "        \n",
    "    def fit(self, X, y=None):\n",
    "        '''All SciKit-learn compatible transformers and classifiers have the same\n",
    "        interface. `fit` should always return the same object (self)'''\n",
    "        return self\n",
    "    \n",
    "    def transform(self, X, sym_list=None):\n",
    "        '''Given a list of original data, return a list of feature vectors'''\n",
    "        feature_vectors = []\n",
    "        if sym_list:\n",
    "            for sym in sym_list:\n",
    "                for x in X:\n",
    "                    feature_vector = [f(x,sym) for f in self.featurizers[0]]\n",
    "                    feature_vectors.append(feature_vector)\n",
    "        else:\n",
    "            for x in X:\n",
    "                feature_vector = [f(x) for f in self.featurizers]\n",
    "                feature_vectors.append(feature_vector)\n",
    "        \n",
    "        return np.array(feature_vectors)"
   ]
  },
  {
   "cell_type": "code",
   "execution_count": 78,
   "metadata": {
    "collapsed": false
   },
   "outputs": [
    {
     "data": {
      "text/plain": [
       "[(',', 4),\n",
       " ('h', 4),\n",
       " (' ', 4),\n",
       " ('t', 3),\n",
       " ('l', 2),\n",
       " ('i', 2),\n",
       " ('o', 2),\n",
       " ('w', 2),\n",
       " ('s', 1),\n",
       " ('e', 1),\n",
       " ('a', 1),\n",
       " ('?', 1)]"
      ]
     },
     "execution_count": 78,
     "metadata": {},
     "output_type": "execute_result"
    }
   ],
   "source": [
    "Counter('hi, hello, wow, this, that?').most_common()"
   ]
  },
  {
   "cell_type": "code",
   "execution_count": 72,
   "metadata": {
    "collapsed": true
   },
   "outputs": [],
   "source": [
    "from collections import Counter"
   ]
  }
 ],
 "metadata": {
  "kernelspec": {
   "display_name": "Python 3",
   "language": "python",
   "name": "python3"
  },
  "language_info": {
   "codemirror_mode": {
    "name": "ipython",
    "version": 3
   },
   "file_extension": ".py",
   "mimetype": "text/x-python",
   "name": "python",
   "nbconvert_exporter": "python",
   "pygments_lexer": "ipython3",
   "version": "3.4.3"
  }
 },
 "nbformat": 4,
 "nbformat_minor": 0
}
